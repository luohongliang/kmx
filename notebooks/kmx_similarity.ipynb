{
 "cells": [
  {
   "cell_type": "code",
   "execution_count": 1,
   "metadata": {
    "collapsed": false
   },
   "outputs": [
    {
     "name": "stdout",
     "output_type": "stream",
     "text": [
      "Running from notebook, using serial load function.\n",
      "[20, 40, 60, 80, 100]\n",
      "/home/hongliang/inpho/kmx/models/kmx-freq5-freq5-N2523342-LDA-K{0}-document-1000.npz\n",
      "Loading LDA data from /home/hongliang/inpho/kmx/models/kmx-freq5-freq5-N2523342-LDA-K20-document-1000.npz\n"
     ]
    }
   ],
   "source": [
    "# -*- coding:UTF-8 -*-\n",
    "\n",
    "    \n",
    "from corpus import *\n",
    "from vsm import *\n",
    "from vsm.spatial import KL_div\n",
    "\n",
    "\n",
    "k = topic_range[0]\n",
    "v = lda_v[k]\n",
    "c.words\n",
    "\n",
    "# train the model and create a TfViewer object\n",
    "tf = TF(c, context_type)\n",
    "tf.train()\n",
    "tf_v = TfViewer(c, tf)\n",
    "\n",
    "# print the most frequent terms in the document\n",
    "# remember that IPython automatically prints the last cell of a document\n",
    "tf_v.coll_freqs()\n",
    "\n",
    "\n",
    "\n",
    "\n",
    "#v.topics()\n",
    "\n",
    "#v.doc_topics(v.labels[:3])\n",
    "\n",
    "\n",
    "#v.dist(v.labels[0], v.labels[1])\n",
    "%matplotlib inline\n",
    "import matplotlib.pyplot as plt\n",
    "from numpy.random import randn\n",
    "import numpy as np\n",
    "import matplotlib.font_manager as fm\n",
    "myfont = fm.FontProperties(fname='/home/hongliang/Downloads/msyh.ttf/msyh.ttf')\n",
    "import sys\n",
    "reload(sys)\n",
    "kongzi = []\n",
    "mengzi = []\n",
    "xunzi =[]\n",
    "\n",
    "count = 0\n",
    "for label in v.labels[:]:\n",
    "    if '孟子' in label:\n",
    "        mengzi.append(count)\n",
    "    elif '论语' in label:\n",
    "        kongzi.append(count)\n",
    "    elif '荀子' in label:\n",
    "        xunzi.append(count)\n",
    "    count += 1\n",
    "\n"
   ]
  },
  {
   "cell_type": "code",
   "execution_count": 2,
   "metadata": {
    "collapsed": false
   },
   "outputs": [],
   "source": [
    "def similarity(c1,c2):\n",
    "    A = np.zeros((len(c1),len(c2)))\n",
    "    for m in range(len(c1)):\n",
    "        for n in range(len(c2)):\n",
    "            A[m][n]= v.dist(v.labels[c1[m]],v.labels[c2[n]]) \n",
    "    print \"while k quals\",k,',','similarity goes',np.mean(A)\n",
    "    return np.mean(A)\n",
    "\n",
    "def kl_similarity(c1,c2):\n",
    "    A = np.zeros((len(c1),len(c2)))\n",
    "    for m in range(len(c1)):\n",
    "        for n in range(len(c2)):\n",
    "            A[m][n]= v.dist(v.labels[c1[m]],v.labels[c2[n]], dist_fn=KL_div) \n",
    "    print \"while k quals\",k,',','first to second similarity goes',np.mean(A)\n",
    "    \n",
    "    B = np.zeros((len(c1),len(c2)))\n",
    "    for m in range(len(c1)):\n",
    "        for n in range(len(c2)):\n",
    "            B[m][n]= v.dist(v.labels[c2[n]],v.labels[c1[m]], dist_fn=KL_div) \n",
    "    print \"while k quals\",k,',','first to second similarity goes',np.mean(B)\n",
    "        \n",
    "    \n",
    "    \n",
    "    return np.mean(A),np.mean(B)\n"
   ]
  },
  {
   "cell_type": "code",
   "execution_count": 3,
   "metadata": {
    "collapsed": false
   },
   "outputs": [],
   "source": [
    "print \"\""
   ]
  },
  {
   "cell_type": "code",
   "execution_count": 4,
   "metadata": {
    "collapsed": true
   },
   "outputs": [],
   "source": [
    "for i in range(5):\n",
    "    k = topic_range[i]\n",
    "    v = lda_v[k]\n",
    "    print 'kongzi mengzi JSD'\n",
    "    similarity(kongzi,mengzi)\n",
    "    print 'kongzi xunzi JSD'\n",
    "    similarity(kongzi,xunzi)\n",
    "    print 'xunzi mengzi JSD'\n",
    "    similarity(xunzi,mengzi)\n",
    "    print 'kongzi mengzi KLD'\n",
    "    kl_similarity(kongzi,mengzi)\n",
    "    print 'kongzi xunzi KLD'\n",
    "    kl_similarity(kongzi,xunzi)\n",
    "    print 'xunzi mengzi KLD'\n",
    "    kl_similarity(xunzi,mengzi)"
   ]
  },
  {
   "cell_type": "code",
   "execution_count": 5,
   "metadata": {
    "collapsed": true
   },
   "outputs": [],
   "source": [
    "theta = v.aggregate_doc_topics(all_ids)"
   ]
  },
  {
   "cell_type": "code",
   "execution_count": 73,
   "metadata": {
    "collapsed": false
   },
   "outputs": [
    {
     "data": {
      "text/plain": [
       "array([ 845, 3124, 3122, ..., 3641, 1862, 2521], dtype=uint16)"
      ]
     },
     "execution_count": 73,
     "metadata": {},
     "output_type": "execute_result"
    }
   ],
   "source": [
    "v.corpus.corpus"
   ]
  },
  {
   "cell_type": "code",
   "execution_count": 75,
   "metadata": {
    "collapsed": false
   },
   "outputs": [
    {
     "data": {
      "text/plain": [
       "array([[  1.73753321e-07,   3.87342909e-04,   4.97011911e-07, ...,\n",
       "          5.65947907e-04,   1.68887425e-07,   5.04890124e-07],\n",
       "       [  1.73919020e-07,   1.98729383e-03,   5.96897735e-04, ...,\n",
       "          1.88554580e-07,   1.19924219e-03,   1.81798078e-03],\n",
       "       [  1.73753321e-07,   2.83090621e-02,   4.97011911e-07, ...,\n",
       "          1.88590548e-07,   1.68919641e-07,   5.04962316e-07],\n",
       "       ..., \n",
       "       [  1.73786461e-07,   2.58111669e-07,   4.97106669e-07, ...,\n",
       "          1.88590548e-07,   1.69048491e-07,   5.04962316e-07],\n",
       "       [  3.49236543e-05,   8.77650396e-04,   4.97106669e-07, ...,\n",
       "          1.88590548e-07,   1.68919641e-07,   5.05347487e-07],\n",
       "       [  1.73753321e-07,   2.58111669e-07,   9.94498143e-04, ...,\n",
       "          1.88590548e-07,   2.16187863e-03,   5.05347487e-07]], dtype=float32)"
      ]
     },
     "execution_count": 75,
     "metadata": {},
     "output_type": "execute_result"
    }
   ],
   "source": [
    "v.phi[v.corpus.corpus]"
   ]
  },
  {
   "cell_type": "code",
   "execution_count": 81,
   "metadata": {
    "collapsed": false
   },
   "outputs": [
    {
     "data": {
      "text/plain": [
       "(7121, 100)"
      ]
     },
     "execution_count": 81,
     "metadata": {},
     "output_type": "execute_result"
    }
   ],
   "source": [
    "v.phi.shape"
   ]
  },
  {
   "cell_type": "code",
   "execution_count": null,
   "metadata": {
    "collapsed": true
   },
   "outputs": [],
   "source": []
  }
 ],
 "metadata": {
  "anaconda-cloud": {},
  "kernelspec": {
   "display_name": "Python [conda root]",
   "language": "python",
   "name": "conda-root-py"
  },
  "language_info": {
   "codemirror_mode": {
    "name": "ipython",
    "version": 2
   },
   "file_extension": ".py",
   "mimetype": "text/x-python",
   "name": "python",
   "nbconvert_exporter": "python",
   "pygments_lexer": "ipython2",
   "version": "2.7.12"
  }
 },
 "nbformat": 4,
 "nbformat_minor": 1
}
