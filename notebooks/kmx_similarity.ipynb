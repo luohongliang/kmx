{
 "cells": [
  {
   "cell_type": "code",
   "execution_count": 1,
   "metadata": {
    "collapsed": false
   },
   "outputs": [
    {
     "name": "stdout",
     "output_type": "stream",
     "text": [
      "Running from notebook, using serial load function.\n",
      "[20, 40, 60, 80, 100]\n",
      "/home/inpho/inpho/kmx/models/kmx-freq5-freq5-N2523342-LDA-K{0}-document-2000.npz\n",
      "Loading LDA data from /home/inpho/inpho/kmx/models/kmx-freq5-freq5-N2523342-LDA-K20-document-2000.npz\n"
     ]
    }
   ],
   "source": [
    "# -*- coding:UTF-8 -*-\n",
    "\n",
    "    \n",
    "from corpus import *\n",
    "from vsm import *\n",
    "from vsm.spatial import KL_div\n",
    "import numpy as np\n",
    "\n",
    "\n",
    "k = topic_range[0]\n",
    "v = lda_v[k]\n",
    "c.words\n",
    "\n",
    "# train the model and create a TfViewer object\n",
    "tf = TF(c, context_type)\n",
    "tf.train()\n",
    "tf_v = TfViewer(c, tf)\n",
    "\n",
    "# print the most frequent terms in the document\n",
    "# remember that IPython automatically prints the last cell of a document\n",
    "tf_v.coll_freqs()\n",
    "\n",
    "\n",
    "\n",
    "\n",
    "#v.topics()\n",
    "\n",
    "#v.doc_topics(v.labels[:3])\n",
    "\n",
    "\n",
    "#v.dist(v.labels[0], v.labels[1])\n",
    "%matplotlib inline\n",
    "import matplotlib.pyplot as plt\n",
    "from numpy.random import randn\n",
    "import numpy as np\n",
    "import matplotlib.font_manager as fm\n",
    "myfont = fm.FontProperties(fname='/home/hongliang/Downloads/msyh.ttf/msyh.ttf')\n",
    "import sys\n",
    "reload(sys)\n",
    "kongzi = []\n",
    "mengzi = []\n",
    "xunzi =[]\n",
    "\n",
    "count = 0\n",
    "for label in v.labels[:]:\n",
    "    if '孟子' in label:\n",
    "        mengzi.append(count)\n",
    "    elif '论语' in label:\n",
    "        kongzi.append(count)\n",
    "    elif '荀子' in label:\n",
    "        xunzi.append(count)\n",
    "    count += 1\n",
    "\n"
   ]
  },
  {
   "cell_type": "code",
   "execution_count": 9,
   "metadata": {
    "collapsed": false
   },
   "outputs": [],
   "source": [
    "def similarity(c1,c2):\n",
    "    A = np.zeros((len(c1),len(c2)))\n",
    "    for m in range(len(c1)):\n",
    "        for n in range(len(c2)):\n",
    "            A[m][n]= v.dist(v.labels[c1[m]],v.labels[c2[n]]) \n",
    "    print \"while k quals\",k,',','JSD goes',np.mean(A)\n",
    "    return np.mean(A)\n",
    "\n",
    "def kl_similarity(c1,c2):\n",
    "    A = np.zeros((len(c1),len(c2)))\n",
    "    for m in range(len(c1)):\n",
    "        for n in range(len(c2)):\n",
    "            A[m][n]= v.dist(v.labels[c1[m]],v.labels[c2[n]], dist_fn=KL_div) \n",
    "    print \"while k quals\",k,',','first to second KLD goes',np.mean(A)\n",
    "    \n",
    "    B = np.zeros((len(c1),len(c2)))\n",
    "    for m in range(len(c1)):\n",
    "        for n in range(len(c2)):\n",
    "            B[m][n]= v.dist(v.labels[c2[n]],v.labels[c1[m]], dist_fn=KL_div) \n",
    "    print \"while k quals\",k,',','second to first KLD goes',np.mean(B)    \n",
    "    return np.mean(A),np.mean(B)\n",
    "\n",
    "def perplexity(theta, corpus, v):\n",
    "    a = (v.phi[corpus] * theta).sum(axis=1)\n",
    "    a = np.log2(a).sum()\n",
    "    return a / len(corpus)"
   ]
  },
  {
   "cell_type": "code",
   "execution_count": 23,
   "metadata": {
    "collapsed": false,
    "scrolled": true
   },
   "outputs": [],
   "source": [
    "corpus = v.corpus.corpus\n",
    "d_value = dict([])\n",
    "for i in range(5):\n",
    "    k = topic_range[i]\n",
    "    v = lda_v[k]\n",
    "    theta = v.aggregate_doc_topics(all_ids)\n",
    "    theta = theta[np.argsort(theta['i'])]\n",
    "    theta = np.array(theta['value'])\n",
    "    P = perplexity(theta, corpus, v)\n",
    "    d_value[str(k)] = []\n",
    "    print 'kongzi mengzi JSD'\n",
    "    d_value[str(k)].append(similarity(kongzi,mengzi))\n",
    "    print 'kongzi xunzi JSD'\n",
    "    d_value[str(k)].append(similarity(kongzi,xunzi))\n",
    "    print 'xunzi mengzi JSD'\n",
    "    d_value[str(k)].append(similarity(xunzi,mengzi))\n",
    "    print 'kongzi mengzi KLD'\n",
    "    d_value[str(k)].append(kl_similarity(kongzi,mengzi)[0])\n",
    "    d_value[str(k)].append(kl_similarity(kongzi,mengzi)[1])\n",
    "    print 'kongzi xunzi KLD'\n",
    "    d_value[str(k)].append(kl_similarity(kongzi,xunzi)[0])\n",
    "    d_value[str(k)].append(kl_similarity(kongzi,xunzi)[1])\n",
    "    print 'xunzi mengzi KLD'\n",
    "    d_value[str(k)].append(kl_similarity(xunzi,mengzi)[0])\n",
    "    d_value[str(k)].append(kl_similarity(xunzi,mengzi)[1])\n",
    "    d_value[str(k)].append(P)\n",
    "    \n"
   ]
  },
  {
   "cell_type": "code",
   "execution_count": 24,
   "metadata": {
    "collapsed": true
   },
   "outputs": [],
   "source": [
    "print d_value"
   ]
  },
  {
   "cell_type": "code",
   "execution_count": 25,
   "metadata": {
    "collapsed": true
   },
   "outputs": [],
   "source": [
    "topicname = []\n",
    "topicname.append('kongzi mengzi JSD')\n",
    "topicname.append('kongzi xunzi JSD')\n",
    "topicname.append ('xunzi mengzi JSD')\n",
    "topicname.append('kongzi mengzi KLD')\n",
    "topicname.append('mengzi kongzi KLD')\n",
    "topicname.append('kongzi xunzi KLD')\n",
    "topicname.append('xunzi kongzi KLD')\n",
    "topicname.append('xunzi mengzi KLD')\n",
    "topicname.append('mengzi xunzi KLD')\n",
    "topicname.append('perplexity')"
   ]
  },
  {
   "cell_type": "code",
   "execution_count": 26,
   "metadata": {
    "collapsed": false
   },
   "outputs": [
    {
     "data": {
      "text/html": [
       "<div>\n",
       "<style>\n",
       "    .dataframe thead tr:only-child th {\n",
       "        text-align: right;\n",
       "    }\n",
       "\n",
       "    .dataframe thead th {\n",
       "        text-align: left;\n",
       "    }\n",
       "\n",
       "    .dataframe tbody tr th {\n",
       "        vertical-align: top;\n",
       "    }\n",
       "</style>\n",
       "<table border=\"1\" class=\"dataframe\">\n",
       "  <thead>\n",
       "    <tr style=\"text-align: right;\">\n",
       "      <th></th>\n",
       "      <th>name</th>\n",
       "      <th>20</th>\n",
       "      <th>40</th>\n",
       "      <th>60</th>\n",
       "      <th>80</th>\n",
       "      <th>100</th>\n",
       "    </tr>\n",
       "  </thead>\n",
       "  <tbody>\n",
       "    <tr>\n",
       "      <th>0</th>\n",
       "      <td>kongzi mengzi JSD</td>\n",
       "      <td>0.486841</td>\n",
       "      <td>0.642040</td>\n",
       "      <td>0.708402</td>\n",
       "      <td>0.749273</td>\n",
       "      <td>0.866783</td>\n",
       "    </tr>\n",
       "    <tr>\n",
       "      <th>1</th>\n",
       "      <td>kongzi xunzi JSD</td>\n",
       "      <td>0.596306</td>\n",
       "      <td>0.747565</td>\n",
       "      <td>0.822088</td>\n",
       "      <td>0.838763</td>\n",
       "      <td>0.849756</td>\n",
       "    </tr>\n",
       "    <tr>\n",
       "      <th>2</th>\n",
       "      <td>xunzi mengzi JSD</td>\n",
       "      <td>0.587285</td>\n",
       "      <td>0.708401</td>\n",
       "      <td>0.781842</td>\n",
       "      <td>0.853024</td>\n",
       "      <td>0.892841</td>\n",
       "    </tr>\n",
       "    <tr>\n",
       "      <th>3</th>\n",
       "      <td>kongzi mengzi KLD</td>\n",
       "      <td>1.744121</td>\n",
       "      <td>3.234609</td>\n",
       "      <td>5.226748</td>\n",
       "      <td>5.924545</td>\n",
       "      <td>9.194358</td>\n",
       "    </tr>\n",
       "    <tr>\n",
       "      <th>4</th>\n",
       "      <td>mengzi kongzi KLD</td>\n",
       "      <td>3.557761</td>\n",
       "      <td>5.783952</td>\n",
       "      <td>6.610855</td>\n",
       "      <td>7.327600</td>\n",
       "      <td>8.916091</td>\n",
       "    </tr>\n",
       "    <tr>\n",
       "      <th>5</th>\n",
       "      <td>kongzi xunzi KLD</td>\n",
       "      <td>3.277708</td>\n",
       "      <td>4.698098</td>\n",
       "      <td>8.721637</td>\n",
       "      <td>10.000375</td>\n",
       "      <td>9.661511</td>\n",
       "    </tr>\n",
       "    <tr>\n",
       "      <th>6</th>\n",
       "      <td>xunzi kongzi KLD</td>\n",
       "      <td>5.623798</td>\n",
       "      <td>8.065141</td>\n",
       "      <td>8.492631</td>\n",
       "      <td>8.491108</td>\n",
       "      <td>8.819306</td>\n",
       "    </tr>\n",
       "    <tr>\n",
       "      <th>7</th>\n",
       "      <td>xunzi mengzi KLD</td>\n",
       "      <td>4.302596</td>\n",
       "      <td>6.891937</td>\n",
       "      <td>7.614338</td>\n",
       "      <td>9.924586</td>\n",
       "      <td>10.390576</td>\n",
       "    </tr>\n",
       "    <tr>\n",
       "      <th>8</th>\n",
       "      <td>mengzi xunzi KLD</td>\n",
       "      <td>4.462231</td>\n",
       "      <td>5.892509</td>\n",
       "      <td>8.193616</td>\n",
       "      <td>9.648914</td>\n",
       "      <td>10.845593</td>\n",
       "    </tr>\n",
       "    <tr>\n",
       "      <th>9</th>\n",
       "      <td>perplexity</td>\n",
       "      <td>-10.309580</td>\n",
       "      <td>-10.309552</td>\n",
       "      <td>-10.309571</td>\n",
       "      <td>-10.309587</td>\n",
       "      <td>-10.309582</td>\n",
       "    </tr>\n",
       "  </tbody>\n",
       "</table>\n",
       "</div>"
      ],
      "text/plain": [
       "                name         20         40         60         80        100\n",
       "0  kongzi mengzi JSD   0.486841   0.642040   0.708402   0.749273   0.866783\n",
       "1   kongzi xunzi JSD   0.596306   0.747565   0.822088   0.838763   0.849756\n",
       "2   xunzi mengzi JSD   0.587285   0.708401   0.781842   0.853024   0.892841\n",
       "3  kongzi mengzi KLD   1.744121   3.234609   5.226748   5.924545   9.194358\n",
       "4  mengzi kongzi KLD   3.557761   5.783952   6.610855   7.327600   8.916091\n",
       "5   kongzi xunzi KLD   3.277708   4.698098   8.721637  10.000375   9.661511\n",
       "6   xunzi kongzi KLD   5.623798   8.065141   8.492631   8.491108   8.819306\n",
       "7   xunzi mengzi KLD   4.302596   6.891937   7.614338   9.924586  10.390576\n",
       "8   mengzi xunzi KLD   4.462231   5.892509   8.193616   9.648914  10.845593\n",
       "9         perplexity -10.309580 -10.309552 -10.309571 -10.309587 -10.309582"
      ]
     },
     "execution_count": 26,
     "metadata": {},
     "output_type": "execute_result"
    }
   ],
   "source": [
    "from pandas import Series,DataFrame\n",
    "import pandas as pd\n",
    "#data = {\"Topics\":top10topics[:10], \"Corpus Weight\":top10topicsweight[:10], \"Topic Name\":[,,,,,,,,,],\"Topic Keywords in Descending Order of Weight\":chunks(word,10)} \n",
    "\n",
    "data3 = {\"name\":topicname,\"20\":d_value['20'],\"40\":d_value['40'],\"60\":d_value['60'],\"80\":d_value['80'],\"100\":d_value['100'],}\n",
    "f3 = DataFrame(data3,columns=['name','20','40','60','80','100'])\n",
    "f3"
   ]
  },
  {
   "cell_type": "markdown",
   "metadata": {},
   "source": [
    "## my method"
   ]
  },
  {
   "cell_type": "code",
   "execution_count": null,
   "metadata": {
    "collapsed": true
   },
   "outputs": [],
   "source": [
    "# from corpus import *\n",
    "# import numpy as np\n",
    "\n",
    "# def perplexity(theta, corpus, v):\n",
    "#    a = (v.phi[corpus] * theta).sum(axis=1)\n",
    "#    a = np.log2(a).sum()\n",
    "#    return a / len(corpus)\n",
    "\n",
    "# v = lda_v[80]\n",
    "# theta = v.aggregate_doc_topics(all_ids)\n",
    "# TMP = []\n",
    "# for a in theta:\n",
    "#    TMP.append(a[1]) \n",
    "# theta = np.array(TMP)\n",
    "# print theta\n",
    "# corpus = v.corpus.corpus\n",
    "# P = perplexity(theta, corpus, v)\n",
    "# print P"
   ]
  },
  {
   "cell_type": "markdown",
   "metadata": {},
   "source": [
    "## each to whole"
   ]
  },
  {
   "cell_type": "code",
   "execution_count": null,
   "metadata": {
    "collapsed": false
   },
   "outputs": [],
   "source": [
    "# def perplexity(theta, corpus, v):\n",
    "#     a = (v.phi[corpus] * theta).sum(axis=1)\n",
    "#     a = np.log2(a).sum()\n",
    "#     return a / len(corpus)\n",
    "\n",
    "# v = lda_v[80]    \n",
    "# perplexity_num = []\n",
    "# theta_all = []\n",
    "# documents = v.corpus.view_contexts('document')\n",
    "# for doc_id,corpus in zip(all_ids,documents):\n",
    "#     theta = v.doc_topic_matrix(doc_id)\n",
    "#     print theta\n",
    "#     theta_all.append(theta)\n",
    "#     perplexity_num.append(perplexity(theta,corpus,v))\n",
    "# perplexity_num = np.array(perplexity_num)\n",
    "# theta_all = np.array(theta_all)\n",
    "# print 'each document way',np.mean(perplexity_num)\n"
   ]
  },
  {
   "cell_type": "markdown",
   "metadata": {},
   "source": [
    "### Jaimie's Final method"
   ]
  },
  {
   "cell_type": "code",
   "execution_count": null,
   "metadata": {
    "collapsed": true
   },
   "outputs": [],
   "source": [
    "# from corpus import *\n",
    "# import numpy as np\n",
    "\n",
    "# def perplexity(theta, corpus, v):\n",
    "#     a = (v.phi[corpus] * theta).sum(axis=1)\n",
    "#     a = np.log2(a).sum()\n",
    "#     return a / len(corpus)\n",
    "\n",
    "# v = lda_v[80]\n",
    "# corpus = v.corpus.corpus\n",
    "\n",
    "# # v.aggregate_doc_topics returns an ndarray instead of just values.\n",
    "# theta = v.aggregate_doc_topics(all_ids)\n",
    "# print 'theta 1 step',theta\n",
    "# theta = theta[np.argsort(theta['i'])]\n",
    "# print 'theat2 step',theta\n",
    "# theta = np.array(theta['value'])\n",
    "# print 'theta3 step',theta\n",
    "\n",
    "# P = perplexity(theta, corpus, v)\n",
    "# print 'whole corpus',P\n"
   ]
  },
  {
   "cell_type": "code",
   "execution_count": null,
   "metadata": {
    "collapsed": true
   },
   "outputs": [],
   "source": []
  },
  {
   "cell_type": "code",
   "execution_count": null,
   "metadata": {
    "collapsed": true
   },
   "outputs": [],
   "source": []
  },
  {
   "cell_type": "code",
   "execution_count": null,
   "metadata": {
    "collapsed": true
   },
   "outputs": [],
   "source": []
  }
 ],
 "metadata": {
  "anaconda-cloud": {},
  "kernelspec": {
   "display_name": "Python [conda root]",
   "language": "python",
   "name": "conda-root-py"
  },
  "language_info": {
   "codemirror_mode": {
    "name": "ipython",
    "version": 2
   },
   "file_extension": ".py",
   "mimetype": "text/x-python",
   "name": "python",
   "nbconvert_exporter": "python",
   "pygments_lexer": "ipython2",
   "version": "2.7.12"
  }
 },
 "nbformat": 4,
 "nbformat_minor": 1
}
