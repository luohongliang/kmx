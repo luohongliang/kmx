{
 "cells": [
  {
   "cell_type": "markdown",
   "metadata": {},
   "source": [
    "##  操作步骤\n",
    "\n",
    "\n",
    "1.项目地址: https://github.com/huyingxi/Synonyms"
   ]
  },
  {
   "cell_type": "code",
   "execution_count": 1,
   "metadata": {
    "collapsed": false
   },
   "outputs": [
    {
     "ename": "ImportError",
     "evalue": "No module named synonyms",
     "output_type": "error",
     "traceback": [
      "\u001b[0;31m---------------------------------------------------------------------------\u001b[0m",
      "\u001b[0;31mImportError\u001b[0m                               Traceback (most recent call last)",
      "\u001b[0;32m<ipython-input-1-5c2c72dce35b>\u001b[0m in \u001b[0;36m<module>\u001b[0;34m()\u001b[0m\n\u001b[1;32m      1\u001b[0m \u001b[0;32mimport\u001b[0m \u001b[0mnumpy\u001b[0m \u001b[0;32mas\u001b[0m \u001b[0mnp\u001b[0m\u001b[0;34m\u001b[0m\u001b[0m\n\u001b[0;32m----> 2\u001b[0;31m \u001b[0;32mimport\u001b[0m \u001b[0msynonyms\u001b[0m \u001b[0;32mas\u001b[0m \u001b[0msy\u001b[0m\u001b[0;34m\u001b[0m\u001b[0m\n\u001b[0m\u001b[1;32m      3\u001b[0m \u001b[0mtopic\u001b[0m \u001b[0;34m=\u001b[0m \u001b[0;34m[\u001b[0m\u001b[0;34m'王'\u001b[0m\u001b[0;34m,\u001b[0m \u001b[0;34m'帝'\u001b[0m\u001b[0;34m,\u001b[0m \u001b[0;34m'军'\u001b[0m\u001b[0;34m,\u001b[0m \u001b[0;34m'将'\u001b[0m\u001b[0;34m,\u001b[0m \u001b[0;34m'年'\u001b[0m\u001b[0;34m,\u001b[0m \u001b[0;34m'史'\u001b[0m\u001b[0;34m,\u001b[0m \u001b[0;34m'太'\u001b[0m\u001b[0;34m,\u001b[0m \u001b[0;34m'武'\u001b[0m\u001b[0;34m,\u001b[0m \u001b[0;34m'阳'\u001b[0m\u001b[0;34m,\u001b[0m \u001b[0;34m'州'\u001b[0m\u001b[0;34m,\u001b[0m \u001b[0;34m'郡'\u001b[0m\u001b[0;34m,\u001b[0m \u001b[0;34m'安'\u001b[0m\u001b[0;34m,\u001b[0m \u001b[0;34m'魏'\u001b[0m\u001b[0;34m,\u001b[0m \u001b[0;34m'祖'\u001b[0m\u001b[0;34m,\u001b[0m \u001b[0;34m'刺'\u001b[0m\u001b[0;34m]\u001b[0m\u001b[0;34m\u001b[0m\u001b[0m\n\u001b[1;32m      4\u001b[0m \u001b[0;34m\u001b[0m\u001b[0m\n\u001b[1;32m      5\u001b[0m \u001b[0;32mdef\u001b[0m \u001b[0mcalculate_sy\u001b[0m\u001b[0;34m(\u001b[0m\u001b[0mtopic\u001b[0m\u001b[0;34m)\u001b[0m\u001b[0;34m:\u001b[0m\u001b[0;34m\u001b[0m\u001b[0m\n",
      "\u001b[0;31mImportError\u001b[0m: No module named synonyms"
     ]
    }
   ],
   "source": [
    "import numpy as np\n",
    "import synonyms as sy\n",
    "topic = ['王', '帝', '军', '将', '年', '史', '太', '武', '阳', '州', '郡', '安', '魏', '祖', '刺']\n",
    "\n",
    "def calculate_sy(topic):\n",
    "    topiclength = len(topic)\n",
    "    dis_matri = np.zeros(topiclength,topiclength)\n",
    "    for i in range(0,topiclength):\n",
    "        for j in range(0,topiclength):\n",
    "            dis_matri[i,j] = sy.compare(topic[i],topic[j],seg = False)\n",
    "\n",
    "    print dis_matri,np.mean(dis_matri)\n",
    "    return np.mean(dis_matri)\n"
   ]
  },
  {
   "cell_type": "code",
   "execution_count": null,
   "metadata": {
    "collapsed": true
   },
   "outputs": [],
   "source": []
  }
 ],
 "metadata": {
  "anaconda-cloud": {},
  "kernelspec": {
   "display_name": "Python [conda root]",
   "language": "python",
   "name": "conda-root-py"
  },
  "language_info": {
   "codemirror_mode": {
    "name": "ipython",
    "version": 2
   },
   "file_extension": ".py",
   "mimetype": "text/x-python",
   "name": "python",
   "nbconvert_exporter": "python",
   "pygments_lexer": "ipython2",
   "version": "2.7.12"
  }
 },
 "nbformat": 4,
 "nbformat_minor": 1
}
