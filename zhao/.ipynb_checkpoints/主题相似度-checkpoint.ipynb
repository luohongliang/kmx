{
 "cells": [
  {
   "cell_type": "markdown",
   "metadata": {},
   "source": [
    "##  操作步骤\n",
    "\n",
    "\n",
    "1.项目地址: https://github.com/huyingxi/Synonyms"
   ]
  },
  {
   "cell_type": "code",
   "execution_count": 3,
   "metadata": {},
   "outputs": [],
   "source": [
    "import numpy as np\n",
    "import synonyms as sy\n",
    "\n",
    "def calculate_sy(topic):\n",
    "    topiclength = len(topic)\n",
    "    dis_matri = np.zeros((topiclength,topiclength))\n",
    "    for i in range(0,topiclength):\n",
    "        for j in range(0,topiclength):\n",
    "            dis_matri[i,j] = sy.compare(topic[i],topic[j],seg = False)\n",
    "    return np.mean(dis_matri)\n"
   ]
  },
  {
   "cell_type": "code",
   "execution_count": 4,
   "metadata": {},
   "outputs": [],
   "source": [
    "topic1 = ['王', '帝', '军', '将', '年', '史', '太', '武', '阳', '州', '郡', '安', '魏', '祖', '刺']\n",
    "\n",
    "print calculate_sy(topic)"
   ]
  },
  {
   "cell_type": "code",
   "execution_count": null,
   "metadata": {
    "collapsed": true
   },
   "outputs": [],
   "source": []
  }
 ],
 "metadata": {
  "anaconda-cloud": {},
  "kernelspec": {
   "display_name": "Python 2",
   "language": "python",
   "name": "python2"
  },
  "language_info": {
   "codemirror_mode": {
    "name": "ipython",
    "version": 2
   },
   "file_extension": ".py",
   "mimetype": "text/x-python",
   "name": "python",
   "nbconvert_exporter": "python",
   "pygments_lexer": "ipython2",
   "version": "2.7.14"
  }
 },
 "nbformat": 4,
 "nbformat_minor": 1
}
