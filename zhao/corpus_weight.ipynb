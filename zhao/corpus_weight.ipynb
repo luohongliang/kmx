{
 "cells": [
  {
   "cell_type": "markdown",
   "metadata": {},
   "source": [
    "### corpus weight\n",
    "corpus_weight 等于 每个topic中word的数量在整个语料库中word的种类数"
   ]
  },
  {
   "cell_type": "code",
   "execution_count": null,
   "metadata": {
    "collapsed": true
   },
   "outputs": [],
   "source": []
  },
  {
   "cell_type": "code",
   "execution_count": 26,
   "metadata": {},
   "outputs": [
    {
     "name": "stdout",
     "output_type": "stream",
     "text": [
      "Loading LDA data from /home/yz/anaconda2/test/kmx_v2/models/kmx-freq5-freq5-N999999-LDA-K100-document-2000.npz\n"
     ]
    }
   ],
   "source": [
    "from corpus import *\n",
    "from vsm import *\n",
    "# replace 'topic_range[0]' with a specific number, if you like\n",
    "k = topic_range[4]\n",
    "# load the topic model\n",
    "v = lda_v[k]\n"
   ]
  },
  {
   "cell_type": "markdown",
   "metadata": {},
   "source": [
    "### 定义 corpus_weight 函数\n",
    "topic 为某个主题（从0开始）"
   ]
  },
  {
   "cell_type": "code",
   "execution_count": 27,
   "metadata": {},
   "outputs": [],
   "source": [
    "def corpus_weight(topic, threshold = 5.62603546e-06):\n",
    "    topic_list = v.topics()[topic]\n",
    "    count = 0.0\n",
    "    for topic in topic_list:\n",
    "        if topic[1] > threshold:\n",
    "            count += 1\n",
    "    return count/len(c.words)"
   ]
  },
  {
   "cell_type": "markdown",
   "metadata": {},
   "source": [
    "### 以表的形式显示 corpus weight 前十的 topic"
   ]
  },
  {
   "cell_type": "code",
   "execution_count": 29,
   "metadata": {},
   "outputs": [
    {
     "data": {
      "text/html": [
       "<div>\n",
       "<style>\n",
       "    .dataframe thead tr:only-child th {\n",
       "        text-align: right;\n",
       "    }\n",
       "\n",
       "    .dataframe thead th {\n",
       "        text-align: left;\n",
       "    }\n",
       "\n",
       "    .dataframe tbody tr th {\n",
       "        vertical-align: top;\n",
       "    }\n",
       "</style>\n",
       "<table border=\"1\" class=\"dataframe\">\n",
       "  <thead>\n",
       "    <tr style=\"text-align: right;\">\n",
       "      <th></th>\n",
       "      <th>topic</th>\n",
       "      <th>corpus_weight</th>\n",
       "      <th>keywords</th>\n",
       "    </tr>\n",
       "  </thead>\n",
       "  <tbody>\n",
       "    <tr>\n",
       "      <th>0</th>\n",
       "      <td>94</td>\n",
       "      <td>0.199410</td>\n",
       "      <td>[生, 人, 足, 马, 食, 一, 鱼, 鸟, 木, 山, 水, 死, 牛, 虎, 居, ...</td>\n",
       "    </tr>\n",
       "    <tr>\n",
       "      <th>1</th>\n",
       "      <td>55</td>\n",
       "      <td>0.157843</td>\n",
       "      <td>[君子, 尔, 心, 维, 人, 载, 思, 止, 匪, 来, 南, 莫, 忧, 归, 采,...</td>\n",
       "    </tr>\n",
       "    <tr>\n",
       "      <th>2</th>\n",
       "      <td>45</td>\n",
       "      <td>0.157141</td>\n",
       "      <td>[上, 游, 流, 玄, 风, 飞, 发, 山, 西, 衡, 灵, 明, 龙, 观, 扬, ...</td>\n",
       "    </tr>\n",
       "    <tr>\n",
       "      <th>3</th>\n",
       "      <td>69</td>\n",
       "      <td>0.152366</td>\n",
       "      <td>[臣, 国, 心, 复, 功, 将, 内, 义, 明, 前, 德, 可, 天, 遂, 上, ...</td>\n",
       "    </tr>\n",
       "    <tr>\n",
       "      <th>4</th>\n",
       "      <td>5</td>\n",
       "      <td>0.150400</td>\n",
       "      <td>[人, 能, 可, 一, 行, 事, 名, 小, 利, 世, 贤, 治, 身, 使, 失, ...</td>\n",
       "    </tr>\n",
       "    <tr>\n",
       "      <th>5</th>\n",
       "      <td>54</td>\n",
       "      <td>0.140851</td>\n",
       "      <td>[君, 将, 使, 人, 可, 氏, 叔, 楚, 命, 请, 及, 能, 国, 归, 死, ...</td>\n",
       "    </tr>\n",
       "    <tr>\n",
       "      <th>6</th>\n",
       "      <td>6</td>\n",
       "      <td>0.136779</td>\n",
       "      <td>[君, 人, 臣, 王, 国, 闻, 死, 将, 亡, 主, 使, 对, 请, 士, 寡, ...</td>\n",
       "    </tr>\n",
       "    <tr>\n",
       "      <th>7</th>\n",
       "      <td>42</td>\n",
       "      <td>0.136357</td>\n",
       "      <td>[宜, 贤, 位, 可, 政, 致, 罪, 奸, 世, 正, 法, 志, 刑, 恶, 邪, ...</td>\n",
       "    </tr>\n",
       "    <tr>\n",
       "      <th>8</th>\n",
       "      <td>93</td>\n",
       "      <td>0.136076</td>\n",
       "      <td>[人, 太, 书, 郡, 帝, 年, 时, 征, 守, 举, 卒, 司, 字, 迁, 事, ...</td>\n",
       "    </tr>\n",
       "    <tr>\n",
       "      <th>9</th>\n",
       "      <td>65</td>\n",
       "      <td>0.135655</td>\n",
       "      <td>[文, 本, 义, 按, 字, 说, 书, 人, 引, 传, 一, 音, 德, 语, 释, ...</td>\n",
       "    </tr>\n",
       "  </tbody>\n",
       "</table>\n",
       "</div>"
      ],
      "text/plain": [
       "   topic  corpus_weight                                           keywords\n",
       "0     94       0.199410  [生, 人, 足, 马, 食, 一, 鱼, 鸟, 木, 山, 水, 死, 牛, 虎, 居, ...\n",
       "1     55       0.157843  [君子, 尔, 心, 维, 人, 载, 思, 止, 匪, 来, 南, 莫, 忧, 归, 采,...\n",
       "2     45       0.157141  [上, 游, 流, 玄, 风, 飞, 发, 山, 西, 衡, 灵, 明, 龙, 观, 扬, ...\n",
       "3     69       0.152366  [臣, 国, 心, 复, 功, 将, 内, 义, 明, 前, 德, 可, 天, 遂, 上, ...\n",
       "4      5       0.150400  [人, 能, 可, 一, 行, 事, 名, 小, 利, 世, 贤, 治, 身, 使, 失, ...\n",
       "5     54       0.140851  [君, 将, 使, 人, 可, 氏, 叔, 楚, 命, 请, 及, 能, 国, 归, 死, ...\n",
       "6      6       0.136779  [君, 人, 臣, 王, 国, 闻, 死, 将, 亡, 主, 使, 对, 请, 士, 寡, ...\n",
       "7     42       0.136357  [宜, 贤, 位, 可, 政, 致, 罪, 奸, 世, 正, 法, 志, 刑, 恶, 邪, ...\n",
       "8     93       0.136076  [人, 太, 书, 郡, 帝, 年, 时, 征, 守, 举, 卒, 司, 字, 迁, 事, ...\n",
       "9     65       0.135655  [文, 本, 义, 按, 字, 说, 书, 人, 引, 传, 一, 音, 德, 语, 释, ..."
      ]
     },
     "execution_count": 29,
     "metadata": {},
     "output_type": "execute_result"
    }
   ],
   "source": [
    "topic_dict = {}\n",
    "# 计算每个topic的 corpus_weight\n",
    "for i in range(0, 100):\n",
    "    topic_dict[i] = corpus_weight(i)\n",
    "# 按照topic_weight从小到大的顺序排列\n",
    "topic_dict_order = sorted(topic_dict.items(), key = lambda item : item[1], reverse = True)\n",
    "\n",
    "topic = []  # 记录前10的topic\n",
    "weight = []  #前十topic对应的权重\n",
    "words = []  #前十topic的keywords\n",
    "count = 0\n",
    "\n",
    "for topic_weight in topic_dict_order:\n",
    "    topic.append(topic_weight[0])\n",
    "    weight.append(topic_weight[1])\n",
    "    word_weight_list = v.topics()[topic_weight[0]]\n",
    "    word = []\n",
    "    for word_weight in word_weight_list:\n",
    "        word.append(word_weight[0])\n",
    "    words.append(word)\n",
    "    count += 1\n",
    "    if count == 10:\n",
    "        break\n",
    "# 画表\n",
    "from pandas import Series,DataFrame\n",
    "import pandas as pd\n",
    "data = {\"topic\":topic,\"corpus_weight\":weight,\"keywords\":words}\n",
    "DataFrame(data,columns=['topic','corpus_weight','keywords'])"
   ]
  },
  {
   "cell_type": "markdown",
   "metadata": {
    "collapsed": true
   },
   "source": [
    "### 以图的形式表示每个topic的corpus weight"
   ]
  },
  {
   "cell_type": "code",
   "execution_count": 34,
   "metadata": {},
   "outputs": [
    {
     "data": {
      "image/png": "[encoded data removed]",
      "text/plain": [
       "<matplotlib.figure.Figure at 0x7f0b895c63d0>"
      ]
     },
     "metadata": {},
     "output_type": "display_data"
    }
   ],
   "source": [
    "import matplotlib.pyplot as plt\n",
    "topic_weight_list = []\n",
    "X = []\n",
    "# 计算每个topic的 corpus_weight\n",
    "for i in range(0, 100):\n",
    "    topic_weight_list.append(corpus_weight(i))\n",
    "    X.append(i)\n",
    "plt.figure(figsize=(15,5))\n",
    "plt.bar(X, topic_weight_list)\n",
    "    \n",
    "plt.xlabel('Topic')  \n",
    "plt.ylabel('Corpus Weight')  \n",
    "plt.title('Corpus Weights for Topics 0-99')  \n",
    "plt.savefig('figure corpus Weight')\n",
    "plt.show()"
   ]
  },
  {
   "cell_type": "code",
   "execution_count": null,
   "metadata": {
    "collapsed": true
   },
   "outputs": [],
   "source": []
  }
 ],
 "metadata": {
  "kernelspec": {
   "display_name": "Python 2",
   "language": "python",
   "name": "python2"
  },
  "language_info": {
   "codemirror_mode": {
    "name": "ipython",
    "version": 2
   },
   "file_extension": ".py",
   "mimetype": "text/x-python",
   "name": "python",
   "nbconvert_exporter": "python",
   "pygments_lexer": "ipython2",
   "version": "2.7.13"
  }
 },
 "nbformat": 4,
 "nbformat_minor": 2
}
