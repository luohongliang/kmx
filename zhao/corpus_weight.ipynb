{
 "cells": [
  {
   "cell_type": "markdown",
   "metadata": {},
   "source": [
    "# corpus weight\n",
    "corpus_weight 等于 每个topic中word的数量在整个语料库中word的种类数"
   ]
  },
  {
   "cell_type": "markdown",
   "metadata": {},
   "source": [
    "#### 导入模型"
   ]
  },
  {
   "cell_type": "code",
   "execution_count": 2,
   "metadata": {
    "collapsed": false
   },
   "outputs": [
    {
     "name": "stdout",
     "output_type": "stream",
     "text": [
      "Loading LDA data from /home/inpho/kmx/models/kmx-freq5-freq5-N23423523-LDA-K100-document-1500.npz\n",
      "Loading LDA data from /home/inpho/kmx/models/kmx-freq5-freq5-N23423523-LDA-K100-document-1500.npz\n"
     ]
    }
   ],
   "source": [
    "from corpus import *\n",
    "from vsm import *\n",
    "# replace 'topic_range[0]' with a specific number, if you like\n",
    "k = topic_range[4]\n",
    "# load the topic model\n",
    "v = lda_v[k]"
   ]
  },
  {
   "cell_type": "markdown",
   "metadata": {},
   "source": [
    "#### 定义 corpus_weight 函数\n",
    "topic 为某个主题（从0开始）\n",
    "在每个topic下，按word的权值由小到大对word进行遍历，如果有threshold个相同的权值，最大权值的word作为截止词"
   ]
  },
  {
   "cell_type": "code",
   "execution_count": 8,
   "metadata": {
    "collapsed": false
   },
   "outputs": [],
   "source": [
    "def corpus_weight(topic, threshold = 36):    #需要注意的是：这个函数不适合threshold=1的情况\n",
    "    topic_list = v.topics()[topic]\n",
    "    adit_number = 0\n",
    "    # 按权重由大到小对 word 遍历\n",
    "    for topic_number in range(len(topic_list)-1,0,-1):\n",
    "        # 如果word的权重与adit_number不相同，threshold减1\n",
    "        if topic_list[topic_number][1] != adit_number:\n",
    "            adit_number = topic_list[topic_number][1]\n",
    "            threshold -= 1\n",
    "            if threshold == 0:\n",
    "                break\n",
    "    #print topic_number\n",
    "    return float(topic_number)/len(c.words)"
   ]
  },
  {
   "cell_type": "markdown",
   "metadata": {},
   "source": [
    "#### 寻找最优threshold值\n",
    "在threshold取不同值的情况下，计算语料库中权重前十的topic，并与Nicholas权重前十匹配"
   ]
  },
  {
   "cell_type": "code",
   "execution_count": 4,
   "metadata": {
    "collapsed": false
   },
   "outputs": [
    {
     "name": "stdout",
     "output_type": "stream",
     "text": [
      "2 2 [0, 1, 2, 3, 4, 6, 7, 8, 9, 10]\n",
      "[0.9997182701788985, 0.9997182701788985, 0.9997182701788985, 0.9997182701788985, 0.9997182701788985, 0.9997182701788985, 0.9997182701788985, 0.9997182701788985, 0.9997182701788985, 0.9997182701788985]\n",
      "3 2 [0, 3, 4, 6, 7, 12, 15, 16, 17, 20]\n",
      "[0.9995774052683477, 0.9995774052683477, 0.9995774052683477, 0.9995774052683477, 0.9995774052683477, 0.9995774052683477, 0.9995774052683477, 0.9995774052683477, 0.9995774052683477, 0.9995774052683477]\n",
      "4 1 [3, 4, 7, 12, 16, 20, 21, 22, 23, 27]\n",
      "[0.9994365403577968, 0.9994365403577968, 0.9994365403577968, 0.9994365403577968, 0.9994365403577968, 0.9994365403577968, 0.9994365403577968, 0.9994365403577968, 0.9994365403577968, 0.9994365403577968]\n",
      "5 2 [4, 7, 12, 20, 23, 89, 95, 0, 5, 10]\n",
      "[0.9992956754472461, 0.9992956754472461, 0.9992956754472461, 0.9992956754472461, 0.9992956754472461, 0.9992956754472461, 0.9992956754472461, 0.9991548105366953, 0.9991548105366953, 0.9991548105366953]\n",
      "6 1 [7, 12, 23, 30, 89, 92, 36, 42, 68, 84]\n",
      "[0.9991548105366953, 0.9991548105366953, 0.9990139456261445, 0.9990139456261445, 0.9990139456261445, 0.9990139456261445, 0.998732215805043, 0.998732215805043, 0.998732215805043, 0.998732215805043]\n",
      "7 1 [23, 92, 36, 68, 91, 12, 63, 16, 82, 0]\n",
      "[0.9988730807155938, 0.9988730807155938, 0.9985913508944921, 0.9985913508944921, 0.9981687561628398, 0.9980278912522891, 0.9980278912522891, 0.9977461614311874, 0.9973235666995351, 0.9970418368784336]\n",
      "8 2 [92, 99, 67, 4, 36, 23, 42, 27, 40, 97]\n",
      "[0.996760107057332, 0.996760107057332, 0.9966192421467812, 0.9961966474151289, 0.9959149175940273, 0.9956331877729258, 0.995492322862375, 0.9952105930412735, 0.9952105930412735, 0.9950697281307226]\n",
      "9 2 [92, 36, 40, 84, 41, 68, 67, 82, 4, 28]\n",
      "[0.9966192421467812, 0.9957740526834765, 0.9950697281307226, 0.9938019439357656, 0.9936610790252148, 0.9932384842935624, 0.9930976193830117, 0.9930976193830117, 0.9929567544724609, 0.9928158895619101]\n",
      "10 1 [36, 92, 84, 82, 4, 67, 12, 0, 40, 94]\n",
      "[0.9956331877729258, 0.995492322862375, 0.9936610790252148, 0.9928158895619101, 0.9926750246513594, 0.992252429919707, 0.9919707000986054, 0.9916889702775039, 0.9915481053669531, 0.9915481053669531]\n",
      "11 2 [4, 0, 67, 23, 99, 40, 36, 42, 97, 89]\n",
      "[0.9925341597408086, 0.9914072404564023, 0.9912663755458515, 0.99098464572475, 0.9908437808141992, 0.9907029159036485, 0.990280321171996, 0.9898577264403438, 0.9895759966192421, 0.9881673475137344]\n",
      "12 2 [36, 40, 68, 89, 16, 66, 23, 15, 63, 91]\n",
      "[0.9898577264403438, 0.9898577264403438, 0.9866178334976757, 0.6617833497675729, 0.6412170728271588, 0.6313565290886041, 0.6307930694464009, 0.6102267925059868, 0.6044513311734047, 0.5968446260036625]\n",
      "13 2 [36, 40, 68, 16, 89, 66, 15, 63, 53, 91]\n",
      "[0.9897168615297929, 0.7296802366530497, 0.6182560924073813, 0.5375404986617833, 0.5354275250035216, 0.5313424425975489, 0.5099309761938301, 0.5021834061135371, 0.5013382166502325, 0.4986617833497676]\n",
      "14 1 [40, 36, 68, 45, 93, 89, 56, 16, 15, 66]\n",
      "[0.6765741653754049, 0.5864206226229046, 0.511339625299338, 0.24651359346386814, 0.22932807437667277, 0.218199746443161, 0.2174954218904071, 0.2090435272573602, 0.20693055359909845, 0.20383152556698125]\n",
      "15 1 [36, 40, 45, 93, 89, 56, 16, 15, 66, 39]\n",
      "[0.4878151852373574, 0.287927877165798, 0.24566840400056347, 0.22552472179180166, 0.21693196224820396, 0.2121425552894774, 0.2076348781518524, 0.20566276940414144, 0.20242287646147344, 0.2012959571770672]\n",
      "16 1 [40, 45, 89, 16, 15, 66, 39, 23, 7, 68]\n",
      "[0.2873644175235949, 0.2438371601634033, 0.21495985350049301, 0.2049584448513875, 0.202704606282575, 0.19946471333990703, 0.19777433441329764, 0.18453303282152417, 0.18002535568389913, 0.17960276095224678]\n",
      "17 1 [40, 45, 89, 16, 15, 66, 39, 23, 68, 44]\n",
      "[0.2838427947598253, 0.24369629525285252, 0.2114382307367235, 0.2021411466403719, 0.20030990280321173, 0.19523876602338358, 0.18706860121143823, 0.18199746443161008, 0.17622200309902802, 0.17382729961966475]\n",
      "18 1 [40, 45, 39, 68, 56, 36, 93, 27, 15, 89]\n",
      "[0.280180307085505, 0.22876461473446966, 0.18692773630088744, 0.17326383997746161, 0.1670657839132272, 0.16664318918157486, 0.16607972953937175, 0.16396675588111, 0.14847161572052403, 0.14734469643611775]\n",
      "19 1 [45, 40, 39, 56, 27, 93, 36, 15, 89, 77]\n",
      "[0.22777856036061417, 0.21848147626426256, 0.18551908719537963, 0.16692491900267642, 0.16382589097055925, 0.16354416114945766, 0.16269897168615297, 0.1477672911677701, 0.14678123679391464, 0.14072404564023103]\n"
     ]
    }
   ],
   "source": [
    "topic_real = [10, 5, 48, 25, 3, 99, 63, 84, 97, 15, 41, 58]\n",
    "for threshold in range(2,20):\n",
    "    topic_dict = {}\n",
    "    # 计算每个topic的 corpus_weight\n",
    "    for i in range(0, 100):\n",
    "        topic_dict[i] = corpus_weight(i,threshold)\n",
    "    # 按照topic_weight从小到大的顺序排列\n",
    "    topic_dict_order = sorted(topic_dict.items(), key = lambda item : item[1], reverse = True)\n",
    "    topic = []\n",
    "    weight = []\n",
    "    counter = 0\n",
    "    # 遍历 topic_dict_order ，记录权重前十的topic\n",
    "    for topic_weight in topic_dict_order:\n",
    "        #print topic_weight\n",
    "        topic.append(topic_weight[0])\n",
    "        weight.append(topic_weight[1])\n",
    "        counter += 1\n",
    "        if counter == 10:\n",
    "            break\n",
    "    count = 0\n",
    "    # 与权重前十的topic进行对比，count表示匹配数\n",
    "    for i in topic:\n",
    "        if i in topic_real:\n",
    "            count += 1\n",
    "    print threshold,count,topic\n",
    "    print weight"
   ]
  },
  {
   "cell_type": "code",
   "execution_count": 7,
   "metadata": {
    "collapsed": false
   },
   "outputs": [
    {
     "name": "stdout",
     "output_type": "stream",
     "text": [
      "20 1 [45, 40, 39, 56, 27, 93, 15, 89, 66, 23]\n",
      "[0.22763769545006338, 0.2183406113537118, 0.18425130300042258, 0.16678405409212566, 0.1634032962389069, 0.1631215664178053, 0.14537258768840683, 0.14368220876179744, 0.13677982814480913, 0.13635723341315678]\n",
      "21 1 [45, 40, 39, 27, 56, 93, 15, 66, 22, 23]\n",
      "[0.22707423580786026, 0.21805888153261022, 0.18411043808987182, 0.1632624313283561, 0.159459078743485, 0.14804902098887168, 0.14523172277785604, 0.13649809832370757, 0.13424425975489507, 0.13424425975489507]\n",
      "22 1 [45, 40, 39, 27, 56, 93, 15, 22, 77, 37]\n",
      "[0.22693337089730947, 0.21791801662205945, 0.18382870826877024, 0.16283983659670376, 0.15833215945907875, 0.1477672911677701, 0.13297647555993802, 0.13283561064938723, 0.12860966333286378, 0.12734187913790676]\n",
      "23 1 [45, 40, 39, 27, 56, 93, 22, 15, 77, 37]\n",
      "[0.2267925059867587, 0.2143963938582899, 0.18368784335821947, 0.1625581067756022, 0.1570643752641217, 0.1470629666150162, 0.13269474573883647, 0.13255388082828568, 0.12804620369066066, 0.12663755458515283]\n",
      "24 1 [45, 40, 39, 27, 56, 93, 22, 15, 77, 37]\n",
      "[0.22608818143400478, 0.20298633610367658, 0.18326524862656712, 0.1624172418650514, 0.15692351035357094, 0.14692210170446543, 0.13227215100718412, 0.13170869136498098, 0.12790533878010987, 0.12649668967460206]\n",
      "25 1 [45, 40, 39, 27, 56, 93, 22, 15, 77, 37]\n",
      "[0.22580645161290322, 0.2028454711931258, 0.18312438371601633, 0.16227637695450065, 0.1565009156219186, 0.14678123679391464, 0.13213128609663333, 0.13114523172277787, 0.12776447386955908, 0.12621495985350048]\n",
      "26 1 [45, 40, 39, 27, 56, 93, 22, 15, 77, 37]\n",
      "[0.22355261304409071, 0.2020002817298211, 0.18298351880546557, 0.16213551204394985, 0.1563600507113678, 0.14649950697281308, 0.13199042118608253, 0.13030004225947317, 0.12762360895900832, 0.12607409494294972]\n",
      "27 1 [45, 40, 39, 27, 56, 93, 22, 15, 77, 37]\n",
      "[0.21777715171150866, 0.2004507677137625, 0.18284265389491478, 0.16199464713339906, 0.156219185800817, 0.1432596140301451, 0.13184955627553177, 0.12959571770671927, 0.12734187913790676, 0.12593323003239892]\n",
      "28 1 [45, 40, 39, 56, 27, 93, 22, 15, 77, 37]\n",
      "[0.21693196224820396, 0.1996055782504578, 0.17918016622059446, 0.15593745597971545, 0.1525566981264967, 0.13734328778701224, 0.13170869136498098, 0.12917312297506692, 0.12706014931680518, 0.12579236512184816]\n",
      "29 1 [45, 40, 39, 56, 27, 93, 22, 37, 15, 77]\n",
      "[0.2167910973376532, 0.19946471333990703, 0.17298211015636006, 0.15579659106916466, 0.1479081560783209, 0.13706155796591069, 0.13156782645443021, 0.12565150021129737, 0.1253697703901958, 0.12255247217918017]\n",
      "30 1 [45, 40, 39, 56, 27, 93, 22, 37, 15, 89]\n",
      "[0.21622763769545006, 0.1989012536977039, 0.17241865051415692, 0.15114804902098888, 0.14762642625721933, 0.13692069305535992, 0.12889139315396533, 0.12551063530074658, 0.12029863361036766, 0.11719960557825046]\n",
      "31 1 [45, 40, 39, 27, 56, 93, 22, 37, 15, 89]\n",
      "[0.21101563600507114, 0.19636568530778983, 0.17227778560360615, 0.14748556134666854, 0.1432596140301451, 0.13677982814480913, 0.12579236512184816, 0.12367939146358642, 0.12015776869981687, 0.11705874066769968]\n",
      "32 1 [45, 40, 39, 27, 56, 93, 22, 37, 15, 89]\n",
      "[0.21087477109452035, 0.19101281870686013, 0.17058740667699676, 0.14734469643611775, 0.1431187491195943, 0.13579377377095367, 0.12565150021129737, 0.12043949852091844, 0.11973517396816453, 0.11691787575714889]\n",
      "33 1 [45, 40, 39, 56, 27, 93, 22, 37, 15, 89]\n",
      "[0.21073390618396956, 0.19002676433300464, 0.16354416114945766, 0.14283701929849274, 0.1424144245668404, 0.13142696154387942, 0.1253697703901958, 0.12015776869981687, 0.11959430905761374, 0.11677701084659811]\n",
      "34 1 [45, 40, 39, 56, 27, 93, 22, 37, 15, 77]\n",
      "[0.20622622904634455, 0.18988589942245387, 0.1632624313283561, 0.14255528947739118, 0.13523031412875053, 0.13100436681222707, 0.12142555289477391, 0.11945344414706296, 0.11931257923651219, 0.11325538808282856]\n",
      "35 1 [45, 40, 39, 56, 27, 93, 22, 37, 15, 23]\n",
      "[0.20608536413579379, 0.18932243978025073, 0.1631215664178053, 0.1424144245668404, 0.13508944921819974, 0.13086350190167628, 0.12114382307367234, 0.11931257923651219, 0.11874911959430906, 0.1098746302296098]\n",
      "36 2 [45, 40, 39, 56, 27, 93, 22, 37, 15, 41]\n",
      "[0.20552190449359065, 0.18523735737427807, 0.16269897168615297, 0.14072404564023103, 0.13494858430764897, 0.13072263699112552, 0.12100295816312157, 0.11748133539935202, 0.11522749683053951, 0.10945203549795746]\n",
      "37 1 [45, 40, 39, 27, 56, 93, 22, 15, 37, 13]\n",
      "[0.2020002817298211, 0.18453303282152417, 0.15424707705310606, 0.1346668544865474, 0.13269474573883647, 0.12818706860121143, 0.12086209325257079, 0.11480490209888716, 0.11395971263558248, 0.1091703056768559]\n",
      "38 1 [45, 40, 39, 56, 93, 27, 22, 15, 37, 89]\n",
      "[0.20185941681927033, 0.18439216791097338, 0.1541062121425553, 0.13255388082828568, 0.12804620369066066, 0.12508804056909423, 0.11593182138329342, 0.1145231722777856, 0.11353711790393013, 0.10888857585575433]\n",
      "39 1 [45, 40, 39, 56, 93, 27, 22, 15, 37, 89]\n",
      "[0.2012959571770672, 0.18396957317932103, 0.14424566840400058, 0.13213128609663333, 0.12790533878010987, 0.12480631074799267, 0.11565009156219186, 0.11410057754613326, 0.11339625299337935, 0.10874771094520355]\n",
      "40 1 [45, 40, 39, 56, 93, 27, 22, 37, 15, 89]\n",
      "[0.2011550922665164, 0.17918016622059446, 0.14410480349344978, 0.13199042118608253, 0.12776447386955908, 0.1246654458374419, 0.11550922665164108, 0.11325538808282856, 0.11198760388787153, 0.10790252148189886]\n",
      "41 1 [45, 40, 39, 56, 93, 27, 22, 37, 15, 89]\n",
      "[0.20101422735596564, 0.17903930131004367, 0.14382307367234823, 0.13184955627553177, 0.12367939146358642, 0.11719960557825046, 0.11536836174109029, 0.112973658261727, 0.11184673897732075, 0.1038174390759262]\n",
      "42 1 [45, 40, 39, 56, 93, 15, 22, 27, 37, 89]\n",
      "[0.19678828003944218, 0.17889843639949288, 0.13382166502324272, 0.13170869136498098, 0.12325679673193407, 0.11170587406676996, 0.11156500915621918, 0.1114241442456684, 0.10874771094520355, 0.1036765741653754]\n",
      "43 1 [45, 40, 39, 93, 56, 15, 22, 27, 37, 89]\n",
      "[0.1966474151288914, 0.1787575714889421, 0.13353993520214114, 0.12311593182138329, 0.12128468798422314, 0.11156500915621918, 0.1114241442456684, 0.11128327933511763, 0.10860684603465277, 0.10353570925482462]\n",
      "44 1 [45, 40, 39, 93, 56, 22, 27, 15, 37, 89]\n",
      "[0.1958022256655867, 0.17523594872517256, 0.13339907029159037, 0.12297506691083251, 0.12114382307367234, 0.11114241442456683, 0.11114241442456683, 0.10874771094520355, 0.10311311452317228, 0.09973235666995352]\n",
      "45 1 [45, 40, 39, 56, 93, 22, 15, 27, 37, 89]\n",
      "[0.190449359064657, 0.17509508381462177, 0.13325820538103958, 0.12100295816312157, 0.11945344414706296, 0.11100154951401606, 0.10846598112410198, 0.10564868291308635, 0.1029722496126215, 0.09916889702775039]\n",
      "46 1 [45, 40, 39, 56, 93, 22, 15, 27, 37, 89]\n",
      "[0.19030849415410622, 0.174954218904071, 0.1331173404704888, 0.12086209325257079, 0.11931257923651219, 0.1067756021974926, 0.10621214255528948, 0.10536695309198478, 0.10043668122270742, 0.09635159881673475]\n",
      "47 1 [45, 40, 39, 56, 93, 22, 15, 27, 37, 89]\n",
      "[0.19016762924355543, 0.17115086631919987, 0.12424285110578955, 0.12072122834202001, 0.11677701084659811, 0.10663473728694182, 0.1060712776447387, 0.105226088181434, 0.10029581631215664, 0.09606986899563319]\n",
      "48 1 [45, 40, 39, 93, 56, 22, 15, 37, 27, 89]\n",
      "[0.18636427665868432, 0.17086913649809832, 0.12410198619523877, 0.11649528102549656, 0.10959290040850823, 0.10649387237639105, 0.10593041273418792, 0.10001408649105507, 0.09973235666995352, 0.09592900408508241]\n",
      "49 1 [45, 40, 39, 93, 56, 22, 15, 37, 27, 89]\n",
      "[0.18580081701648118, 0.17072827158754755, 0.12367939146358642, 0.11635441611494576, 0.1091703056768559, 0.10635300746584025, 0.10424003380757853, 0.0998732215805043, 0.09959149175940274, 0.09297084096351599]\n"
     ]
    }
   ],
   "source": [
    "topic_real = [10, 5, 48, 25, 3, 99, 63, 84, 97, 15, 41, 58]\n",
    "for threshold in range(20,50):\n",
    "    topic_dict = {}\n",
    "    # 计算每个topic的 corpus_weight\n",
    "    for i in range(0, 100):\n",
    "        topic_dict[i] = corpus_weight(i,threshold)\n",
    "    # 按照topic_weight从小到大的顺序排列\n",
    "    topic_dict_order = sorted(topic_dict.items(), key = lambda item : item[1], reverse = True)\n",
    "    topic = []\n",
    "    weight = []\n",
    "    counter = 0\n",
    "    # 遍历 topic_dict_order ，记录权重前十的topic\n",
    "    for topic_weight in topic_dict_order:\n",
    "        #print topic_weight\n",
    "        topic.append(topic_weight[0])\n",
    "        weight.append(topic_weight[1])\n",
    "        counter += 1\n",
    "        if counter == 10:\n",
    "            break\n",
    "    count = 0\n",
    "    # 与权重前十的topic进行对比，count表示匹配数\n",
    "    for i in topic:\n",
    "        if i in topic_real:\n",
    "            count += 1\n",
    "    print threshold,count,topic\n",
    "    print weight"
   ]
  },
  {
   "cell_type": "markdown",
   "metadata": {},
   "source": [
    "### 以表的形式显示 corpus weight 前十的 topic"
   ]
  },
  {
   "cell_type": "code",
   "execution_count": 9,
   "metadata": {
    "collapsed": false
   },
   "outputs": [
    {
     "data": {
      "text/html": [
       "<div>\n",
       "<table border=\"1\" class=\"dataframe\">\n",
       "  <thead>\n",
       "    <tr style=\"text-align: right;\">\n",
       "      <th></th>\n",
       "      <th>topic</th>\n",
       "      <th>corpus_weight</th>\n",
       "      <th>keywords</th>\n",
       "    </tr>\n",
       "  </thead>\n",
       "  <tbody>\n",
       "    <tr>\n",
       "      <th>0</th>\n",
       "      <td>45</td>\n",
       "      <td>0.205522</td>\n",
       "      <td>[人, 中, 生, 日, 大, 水, 马, 食, 天, 出, 时, 山, 门, 相, 国, ...</td>\n",
       "    </tr>\n",
       "    <tr>\n",
       "      <th>1</th>\n",
       "      <td>40</td>\n",
       "      <td>0.185237</td>\n",
       "      <td>[心, 德, 世, 今, 明, 或, 犹, 昔, 岂, 诚, 命, 道, 思, 义, 乱, ...</td>\n",
       "    </tr>\n",
       "    <tr>\n",
       "      <th>2</th>\n",
       "      <td>39</td>\n",
       "      <td>0.162699</td>\n",
       "      <td>[云, 华, 龙, 乘, 白, 观, 风, 相, 游, 林, 宫, 朱, 玄, 靡, 金, ...</td>\n",
       "    </tr>\n",
       "    <tr>\n",
       "      <th>3</th>\n",
       "      <td>56</td>\n",
       "      <td>0.140724</td>\n",
       "      <td>[彼, 既, 君子, 维, 尔, 心, 言, 载, 匪, 斯, 归, 且, 思, 人, 采,...</td>\n",
       "    </tr>\n",
       "    <tr>\n",
       "      <th>4</th>\n",
       "      <td>27</td>\n",
       "      <td>0.134949</td>\n",
       "      <td>[大, 得, 福, 忧, 家, 失, 利, 明, 安, 济, 畜, 相, 喜, 归, 行, ...</td>\n",
       "    </tr>\n",
       "    <tr>\n",
       "      <th>5</th>\n",
       "      <td>93</td>\n",
       "      <td>0.130723</td>\n",
       "      <td>[时, 郡, 拜, 守, 年, 遂, 书, 字, 举, 迁, 征, 卒, 相, 令, 从, ...</td>\n",
       "    </tr>\n",
       "    <tr>\n",
       "      <th>6</th>\n",
       "      <td>22</td>\n",
       "      <td>0.121003</td>\n",
       "      <td>[月, 大, 行, 日, 天, 令, 命, 中, 春, 冬, 水, 秋, 夏, 衣, 先, ...</td>\n",
       "    </tr>\n",
       "    <tr>\n",
       "      <th>7</th>\n",
       "      <td>37</td>\n",
       "      <td>0.117481</td>\n",
       "      <td>[公, 人, 叔, 孙, 君, 大, 楚, 齐, 月, 陈, 国, 侯, 季, 师, 吴, ...</td>\n",
       "    </tr>\n",
       "    <tr>\n",
       "      <th>8</th>\n",
       "      <td>15</td>\n",
       "      <td>0.115227</td>\n",
       "      <td>[上, 臣, 下, 人, 天, 今, 得, 欲, 言, 见, 闻, 陛下, 时, 生, 事,...</td>\n",
       "    </tr>\n",
       "    <tr>\n",
       "      <th>9</th>\n",
       "      <td>41</td>\n",
       "      <td>0.109452</td>\n",
       "      <td>[君, 公, 王, 人, 臣, 国, 闻, 见, 今, 知, 死, 士, 寡, 文, 得, ...</td>\n",
       "    </tr>\n",
       "  </tbody>\n",
       "</table>\n",
       "</div>"
      ],
      "text/plain": [
       "   topic  corpus_weight                                           keywords\n",
       "0     45       0.205522  [人, 中, 生, 日, 大, 水, 马, 食, 天, 出, 时, 山, 门, 相, 国, ...\n",
       "1     40       0.185237  [心, 德, 世, 今, 明, 或, 犹, 昔, 岂, 诚, 命, 道, 思, 义, 乱, ...\n",
       "2     39       0.162699  [云, 华, 龙, 乘, 白, 观, 风, 相, 游, 林, 宫, 朱, 玄, 靡, 金, ...\n",
       "3     56       0.140724  [彼, 既, 君子, 维, 尔, 心, 言, 载, 匪, 斯, 归, 且, 思, 人, 采,...\n",
       "4     27       0.134949  [大, 得, 福, 忧, 家, 失, 利, 明, 安, 济, 畜, 相, 喜, 归, 行, ...\n",
       "5     93       0.130723  [时, 郡, 拜, 守, 年, 遂, 书, 字, 举, 迁, 征, 卒, 相, 令, 从, ...\n",
       "6     22       0.121003  [月, 大, 行, 日, 天, 令, 命, 中, 春, 冬, 水, 秋, 夏, 衣, 先, ...\n",
       "7     37       0.117481  [公, 人, 叔, 孙, 君, 大, 楚, 齐, 月, 陈, 国, 侯, 季, 师, 吴, ...\n",
       "8     15       0.115227  [上, 臣, 下, 人, 天, 今, 得, 欲, 言, 见, 闻, 陛下, 时, 生, 事,...\n",
       "9     41       0.109452  [君, 公, 王, 人, 臣, 国, 闻, 见, 今, 知, 死, 士, 寡, 文, 得, ..."
      ]
     },
     "execution_count": 9,
     "metadata": {},
     "output_type": "execute_result"
    }
   ],
   "source": [
    "topic_dict = {}\n",
    "# 计算每个topic的 corpus_weight\n",
    "for i in range(0, 100):\n",
    "    topic_dict[i] = corpus_weight(i)\n",
    "# 按照topic_weight从小到大的顺序排列\n",
    "topic_dict_order = sorted(topic_dict.items(), key = lambda item : item[1], reverse = True)\n",
    "\n",
    "topic = []  # 记录前10的topic\n",
    "weight = []  #前十topic对应的权重\n",
    "words = []  #前十topic的keywords\n",
    "count = 0\n",
    "# 取权重前十的topic及其权重。topic编号记录在topic[]中，对应的权重记录在weight[]中，每个topic下的word记录在word[]中\n",
    "for topic_weight in topic_dict_order:\n",
    "    topic.append(topic_weight[0])\n",
    "    weight.append(topic_weight[1])\n",
    "    word_weight_list = v.topics()[topic_weight[0]]\n",
    "    word = []\n",
    "    for word_weight in word_weight_list:\n",
    "        word.append(word_weight[0])\n",
    "    words.append(word)\n",
    "    count += 1\n",
    "    if count == 10:\n",
    "        break\n",
    "# 画表\n",
    "from pandas import Series,DataFrame\n",
    "import pandas as pd\n",
    "data = {\"topic\":topic,\"corpus_weight\":weight,\"keywords\":words}\n",
    "DataFrame(data,columns=['topic','corpus_weight','keywords'])"
   ]
  },
  {
   "cell_type": "markdown",
   "metadata": {
    "collapsed": true
   },
   "source": [
    "### 以图的形式表示每个topic的corpus weight"
   ]
  },
  {
   "cell_type": "code",
   "execution_count": 10,
   "metadata": {
    "collapsed": false
   },
   "outputs": [
    {
     "data": {
      "image/png": "[encoded data removed]",
      "text/plain": [
       "<matplotlib.figure.Figure at 0x7fc8c8e68f10>"
      ]
     },
     "metadata": {},
     "output_type": "display_data"
    }
   ],
   "source": [
    "import matplotlib.pyplot as plt\n",
    "topic_weight_list = []\n",
    "X = []\n",
    "# 计算每个topic的 corpus_weight\n",
    "for i in range(0, 100):\n",
    "    topic_weight_list.append(corpus_weight(i))\n",
    "    X.append(i)\n",
    "plt.figure(figsize=(15,5))\n",
    "plt.bar(X, topic_weight_list)\n",
    "    \n",
    "plt.xlabel('Topic')  \n",
    "plt.ylabel('Corpus Weight')  \n",
    "plt.title('Corpus Weights for Topics 0-99')  \n",
    "plt.savefig('figure corpus Weight')\n",
    "plt.show()"
   ]
  },
  {
   "cell_type": "code",
   "execution_count": null,
   "metadata": {
    "collapsed": false
   },
   "outputs": [],
   "source": []
  },
  {
   "cell_type": "code",
   "execution_count": null,
   "metadata": {
    "collapsed": true
   },
   "outputs": [],
   "source": []
  }
 ],
 "metadata": {
  "kernelspec": {
   "display_name": "Python 2",
   "language": "python",
   "name": "python2"
  },
  "language_info": {
   "codemirror_mode": {
    "name": "ipython",
    "version": 2
   },
   "file_extension": ".py",
   "mimetype": "text/x-python",
   "name": "python",
   "nbconvert_exporter": "python",
   "pygments_lexer": "ipython2",
   "version": "2.7.13"
  }
 },
 "nbformat": 4,
 "nbformat_minor": 2
}
