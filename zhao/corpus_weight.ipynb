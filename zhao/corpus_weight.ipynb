{
 "cells": [
  {
   "cell_type": "markdown",
   "metadata": {},
   "source": [
    "# corpus weight\n",
    "corpus_weight 等于 每个topic中word的数量在整个语料库中word的种类数"
   ]
  },
  {
   "cell_type": "markdown",
   "metadata": {},
   "source": [
    "#### 导入模型"
   ]
  },
  {
   "cell_type": "code",
   "execution_count": 1,
   "metadata": {
    "collapsed": false
   },
   "outputs": [
    {
     "name": "stdout",
     "output_type": "stream",
     "text": [
      "Running from notebook, using serial load function.\n",
      "[100]\n",
      "/home/inpho/kmx/models/kmx-freq5-freq5-N999999-LDA-K{0}-document-2000.npz\n",
      "Loading LDA data from /home/inpho/kmx/models/kmx-freq5-freq5-N999999-LDA-K100-document-2000.npz\n"
     ]
    }
   ],
   "source": [
    "from corpus import *\n",
    "from vsm import *\n",
    "# replace 'topic_range[0]' with a specific number, if you like\n",
    "k = topic_range[0]\n",
    "# load the topic model\n",
    "v = lda_v[k]"
   ]
  },
  {
   "cell_type": "markdown",
   "metadata": {},
   "source": [
    "#### 定义 corpus_weight 函数\n",
    "topic 为某个主题（从0开始）\n",
    "在每个topic下，按word的权值由小到大对word进行遍历，如果有threshold个相同的权值，最大权值的word作为截止词"
   ]
  },
  {
   "cell_type": "code",
   "execution_count": 10,
   "metadata": {
    "collapsed": false
   },
   "outputs": [],
   "source": [
    "def corpus_weight(topic, threshold = 4):    #需要注意的是：这个函数不适合threshold=1的情况\n",
    "    topic_list = v.topics()[topic]\n",
    "    adit_number = 0\n",
    "    # 按权重由大到小对 word 遍历\n",
    "    for topic_number in range(len(topic_list)-1,0,-1):\n",
    "        # 如果word的权重与adit_number不相同，threshold减1\n",
    "        if topic_list[topic_number][1] != adit_number:\n",
    "            adit_number = topic_list[topic_number][1]\n",
    "            threshold -= 1\n",
    "            if threshold == 0:\n",
    "                break\n",
    "    #print topic_number\n",
    "    return float(topic_number)/len(c.words)"
   ]
  },
  {
   "cell_type": "markdown",
   "metadata": {},
   "source": [
    "#### 寻找最优threshold值\n",
    "在threshold取不同值的情况下，计算语料库中权重前十的topic，并与Nicholas权重前十匹配"
   ]
  },
  {
   "cell_type": "code",
   "execution_count": 9,
   "metadata": {
    "collapsed": false
   },
   "outputs": [
    {
     "name": "stdout",
     "output_type": "stream",
     "text": [
      "2 2 [46, 58, 34, 65, 80, 63, 21, 75, 79, 7]\n",
      "[0.9997191405701447, 0.9997191405701447, 0.785423395590507, 0.758320460609465, 0.7126808032579693, 0.7116977952534757, 0.7073444740907175, 0.7062210363712962, 0.6965313860412863, 0.6952675186069373]\n",
      "3 1 [34, 65, 63, 92, 79, 21, 85, 7, 46, 82]\n",
      "[0.7528437017272855, 0.7121190843982587, 0.6713944670692319, 0.6462575480971774, 0.6444319618031176, 0.6442915320881899, 0.6413425080747086, 0.6364274680522398, 0.6347423114731077, 0.6265973880073024]\n",
      "4 2 [58, 46, 34, 65, 75, 80, 21, 4, 48, 76]\n",
      "[0.5517483499508496, 0.4976829097036933, 0.3217244768993119, 0.28521275101811544, 0.24224125825024576, 0.23578149136357254, 0.2346580536441511, 0.2234236764499368, 0.22300238730515376, 0.2201937930066002]\n",
      "5 2 [34, 65, 21, 48, 46, 4, 13, 75, 80, 58]\n",
      "[0.23311332677994664, 0.19983148434208678, 0.1800308945372841, 0.17497542479988765, 0.16626878247437157, 0.16514534475495016, 0.16121331273697515, 0.1575621401488555, 0.1529279595562421, 0.1495576463979778]\n",
      "6 1 [34, 65, 21, 48, 13, 4, 75, 44, 32, 66]\n",
      "[0.20881898609745822, 0.1805926133969948, 0.1693582362027805, 0.16205589102654122, 0.15011936525768851, 0.14787248981884568, 0.13621682347984834, 0.13551467490520994, 0.13228479146187333, 0.1251228760005617]\n",
      "7 1 [34, 65, 21, 48, 13, 4, 44, 75, 32, 66]\n",
      "[0.20741468894818144, 0.1786265973880073, 0.16570706361466087, 0.15896643729813228, 0.14773206010391798, 0.14534475495014745, 0.13411037775593315, 0.13298694003651174, 0.1259654542901278, 0.12343771942142957]\n",
      "8 1 [34, 65, 21, 48, 13, 4, 44, 75, 32, 66]\n",
      "[0.2003932032017975, 0.1727285493610448, 0.15938772644291532, 0.14941721668305014, 0.144221317230726, 0.13944670692318495, 0.12793147029911528, 0.12638674343491083, 0.12147170341244207, 0.11852267939896081]\n",
      "9 1 [34, 65, 21, 48, 13, 4, 44, 75, 32, 66]\n",
      "[0.19926976548237607, 0.17104339278191266, 0.15910686701305995, 0.1482937789636287, 0.1436595983710153, 0.1390254177784019, 0.1265271731498385, 0.12582502457520012, 0.12076955483780367, 0.11711838224968403]\n",
      "10 1 [34, 65, 21, 48, 13, 4, 44, 75, 32, 66]\n",
      "[0.19884847633759303, 0.17062210363712962, 0.15896643729813228, 0.1468894818143519, 0.14351916865608763, 0.13818283948883583, 0.1259654542901278, 0.12554416514534475, 0.120629125122876, 0.11669709310490099]\n",
      "11 1 [34, 65, 21, 13, 48, 4, 75, 44, 32, 66]\n",
      "[0.19351214717034124, 0.1700603847774189, 0.15798342929363854, 0.14323830922623226, 0.13804240977390816, 0.13354865889622244, 0.1252633057154894, 0.1218929925572251, 0.11852267939896081, 0.11627580396011795]\n",
      "12 1 [34, 65, 21, 13, 48, 4, 44, 75, 66, 80]\n",
      "[0.19266956888077516, 0.1654262041848055, 0.1468894818143519, 0.13972756635304032, 0.13748069091419746, 0.13298694003651174, 0.12147170341244207, 0.11936525768852689, 0.11318635023170903, 0.11122033422272153]\n",
      "13 1 [34, 65, 21, 13, 48, 4, 44, 75, 66, 80]\n",
      "[0.1925291391658475, 0.16500491504002246, 0.1463277629546412, 0.13944670692318495, 0.13734026119926976, 0.13270608060665637, 0.1213312736975144, 0.11852267939896081, 0.11290549080185368, 0.11051818564808313]\n",
      "14 1 [34, 65, 13, 48, 21, 4, 75, 44, 66, 80]\n",
      "[0.19238870945091982, 0.1648644853250948, 0.13930627720825728, 0.13705940176941442, 0.13425080747086082, 0.12680803257969386, 0.11838224968403314, 0.11571408510040725, 0.11262463137199831, 0.1100968965033001]\n",
      "15 1 [34, 65, 13, 21, 48, 4, 75, 44, 66, 80]\n",
      "[0.18775452885830643, 0.16107288302204747, 0.13382951832607778, 0.13368908861115011, 0.12708889200954923, 0.12624631371998316, 0.11824181996910546, 0.11557365538547956, 0.10981603707344474, 0.10967560735851706]\n",
      "16 1 [34, 65, 13, 48, 4, 21, 44, 75, 66, 80]\n",
      "[0.1873332397135234, 0.1607920235921921, 0.13340822918129477, 0.1266676028647662, 0.12610588400505546, 0.12245471141693583, 0.11543322567055189, 0.11459064738098582, 0.10925431821373402, 0.10644572391518045]\n",
      "17 1 [34, 65, 13, 48, 21, 4, 75, 44, 66, 80]\n",
      "[0.1871928099985957, 0.1570004212891448, 0.13017834573795814, 0.12638674343491083, 0.12217385198708047, 0.12175256284229743, 0.11388849880634742, 0.1093947479286617, 0.1074287319196742, 0.10560314562561438]\n",
      "18 1 [34, 65, 13, 4, 48, 21, 44, 75, 66, 80]\n",
      "[0.18213734026119927, 0.1537705378458082, 0.1298974863081028, 0.12090998455273136, 0.11782053082432242, 0.11234377194214296, 0.10911388849880635, 0.10869259935402331, 0.10700744277489117, 0.1054627159106867]\n",
      "19 1 [34, 65, 13, 48, 4, 21, 44, 75, 66, 80]\n",
      "[0.18185648083134393, 0.1536301081308805, 0.12582502457520012, 0.11711838224968403, 0.11697795253475636, 0.1120629125122876, 0.10897345878387867, 0.10841173992416796, 0.10476056733604831, 0.10181154332256706]\n"
     ]
    }
   ],
   "source": [
    "topic_real = [10, 5, 48, 25, 3, 99, 63, 84, 97, 15, 41, 58]\n",
    "for threshold in range(2,20):\n",
    "    topic_dict = {}\n",
    "    # 计算每个topic的 corpus_weight\n",
    "    for i in range(0, 100):\n",
    "        topic_dict[i] = corpus_weight(i,threshold)\n",
    "    # 按照topic_weight从小到大的顺序排列\n",
    "    topic_dict_order = sorted(topic_dict.items(), key = lambda item : item[1], reverse = True)\n",
    "    topic = []\n",
    "    weight = []\n",
    "    counter = 0\n",
    "    # 遍历 topic_dict_order ，记录权重前十的topic\n",
    "    for topic_weight in topic_dict_order:\n",
    "        #print topic_weight\n",
    "        topic.append(topic_weight[0])\n",
    "        weight.append(topic_weight[1])\n",
    "        counter += 1\n",
    "        if counter == 10:\n",
    "            break\n",
    "    count = 0\n",
    "    # 与权重前十的topic进行对比，count表示匹配数\n",
    "    for i in topic:\n",
    "        if i in topic_real:\n",
    "            count += 1\n",
    "    print threshold,count,topic\n",
    "    print weight"
   ]
  },
  {
   "cell_type": "markdown",
   "metadata": {},
   "source": [
    "### 以表的形式显示 corpus weight 前十的 topic"
   ]
  },
  {
   "cell_type": "code",
   "execution_count": 11,
   "metadata": {
    "collapsed": false
   },
   "outputs": [
    {
     "data": {
      "text/html": [
       "<div>\n",
       "<table border=\"1\" class=\"dataframe\">\n",
       "  <thead>\n",
       "    <tr style=\"text-align: right;\">\n",
       "      <th></th>\n",
       "      <th>topic</th>\n",
       "      <th>corpus_weight</th>\n",
       "      <th>keywords</th>\n",
       "    </tr>\n",
       "  </thead>\n",
       "  <tbody>\n",
       "    <tr>\n",
       "      <th>0</th>\n",
       "      <td>58</td>\n",
       "      <td>0.551748</td>\n",
       "      <td>[乐, 礼, 声, 音, 鼓, 和, 钟, 歌, 奏, 舞, 象, 心, 琴, 先, 时, ...</td>\n",
       "    </tr>\n",
       "    <tr>\n",
       "      <th>1</th>\n",
       "      <td>46</td>\n",
       "      <td>0.497683</td>\n",
       "      <td>[州, 卓, 绍, 操, 天, 等, 曹, 张, 刘, 袁, 布, 董, 东, 杀, 史, ...</td>\n",
       "    </tr>\n",
       "    <tr>\n",
       "      <th>2</th>\n",
       "      <td>34</td>\n",
       "      <td>0.321724</td>\n",
       "      <td>[能, 天, 足, 一, 死, 莫, 游, 生, 乐, 世, 鱼, 千, 方, 马, 穷, ...</td>\n",
       "    </tr>\n",
       "    <tr>\n",
       "      <th>3</th>\n",
       "      <td>65</td>\n",
       "      <td>0.285213</td>\n",
       "      <td>[世, 德, 君, 义, 心, 宜, 后, 忠, 明, 可, 重, 昔, 绝, 功, 臣, ...</td>\n",
       "    </tr>\n",
       "    <tr>\n",
       "      <th>4</th>\n",
       "      <td>75</td>\n",
       "      <td>0.242241</td>\n",
       "      <td>[太, 守, 郡, 人, 时, 举, 拜, 字, 迁, 征, 家, 名, 书, 后, 司, ...</td>\n",
       "    </tr>\n",
       "    <tr>\n",
       "      <th>5</th>\n",
       "      <td>80</td>\n",
       "      <td>0.235781</td>\n",
       "      <td>[年, 帝, 事, 初, 平, 阳, 永, 十, 人, 元, 国, 二, 及, 书, 武, ...</td>\n",
       "    </tr>\n",
       "    <tr>\n",
       "      <th>6</th>\n",
       "      <td>21</td>\n",
       "      <td>0.234658</td>\n",
       "      <td>[余, 离, 将, 流, 灵, 风, 长, 可, 怀, 屈, 原, 独, 游, 上, 远, ...</td>\n",
       "    </tr>\n",
       "    <tr>\n",
       "      <th>7</th>\n",
       "      <td>4</td>\n",
       "      <td>0.223424</td>\n",
       "      <td>[明, 国, 福, 山, 祸, 日, 室, 门, 心, 安, 王, 伤, 复, 道, 成, ...</td>\n",
       "    </tr>\n",
       "    <tr>\n",
       "      <th>8</th>\n",
       "      <td>48</td>\n",
       "      <td>0.223002</td>\n",
       "      <td>[君子, 尔, 维, 心, 人, 思, 止, 载, 匪, 风, 实, 归, 女, 莫, 采,...</td>\n",
       "    </tr>\n",
       "    <tr>\n",
       "      <th>9</th>\n",
       "      <td>76</td>\n",
       "      <td>0.220194</td>\n",
       "      <td>[光, 侯, 事, 军, 国, 将, 上, 司, 史, 书, 奏, 宣, 武, 马, 丞相,...</td>\n",
       "    </tr>\n",
       "  </tbody>\n",
       "</table>\n",
       "</div>"
      ],
      "text/plain": [
       "   topic  corpus_weight                                           keywords\n",
       "0     58       0.551748  [乐, 礼, 声, 音, 鼓, 和, 钟, 歌, 奏, 舞, 象, 心, 琴, 先, 时, ...\n",
       "1     46       0.497683  [州, 卓, 绍, 操, 天, 等, 曹, 张, 刘, 袁, 布, 董, 东, 杀, 史, ...\n",
       "2     34       0.321724  [能, 天, 足, 一, 死, 莫, 游, 生, 乐, 世, 鱼, 千, 方, 马, 穷, ...\n",
       "3     65       0.285213  [世, 德, 君, 义, 心, 宜, 后, 忠, 明, 可, 重, 昔, 绝, 功, 臣, ...\n",
       "4     75       0.242241  [太, 守, 郡, 人, 时, 举, 拜, 字, 迁, 征, 家, 名, 书, 后, 司, ...\n",
       "5     80       0.235781  [年, 帝, 事, 初, 平, 阳, 永, 十, 人, 元, 国, 二, 及, 书, 武, ...\n",
       "6     21       0.234658  [余, 离, 将, 流, 灵, 风, 长, 可, 怀, 屈, 原, 独, 游, 上, 远, ...\n",
       "7      4       0.223424  [明, 国, 福, 山, 祸, 日, 室, 门, 心, 安, 王, 伤, 复, 道, 成, ...\n",
       "8     48       0.223002  [君子, 尔, 维, 心, 人, 思, 止, 载, 匪, 风, 实, 归, 女, 莫, 采,...\n",
       "9     76       0.220194  [光, 侯, 事, 军, 国, 将, 上, 司, 史, 书, 奏, 宣, 武, 马, 丞相,..."
      ]
     },
     "execution_count": 11,
     "metadata": {},
     "output_type": "execute_result"
    }
   ],
   "source": [
    "topic_dict = {}\n",
    "# 计算每个topic的 corpus_weight\n",
    "for i in range(0, 100):\n",
    "    topic_dict[i] = corpus_weight(i)\n",
    "# 按照topic_weight从小到大的顺序排列\n",
    "topic_dict_order = sorted(topic_dict.items(), key = lambda item : item[1], reverse = True)\n",
    "\n",
    "topic = []  # 记录前10的topic\n",
    "weight = []  #前十topic对应的权重\n",
    "words = []  #前十topic的keywords\n",
    "count = 0\n",
    "# 取权重前十的topic及其权重。topic编号记录在topic[]中，对应的权重记录在weight[]中，每个topic下的word记录在word[]中\n",
    "for topic_weight in topic_dict_order:\n",
    "    topic.append(topic_weight[0])\n",
    "    weight.append(topic_weight[1])\n",
    "    word_weight_list = v.topics()[topic_weight[0]]\n",
    "    word = []\n",
    "    for word_weight in word_weight_list:\n",
    "        word.append(word_weight[0])\n",
    "    words.append(word)\n",
    "    count += 1\n",
    "    if count == 10:\n",
    "        break\n",
    "# 画表\n",
    "from pandas import Series,DataFrame\n",
    "import pandas as pd\n",
    "data = {\"topic\":topic,\"corpus_weight\":weight,\"keywords\":words}\n",
    "DataFrame(data,columns=['topic','corpus_weight','keywords'])"
   ]
  },
  {
   "cell_type": "markdown",
   "metadata": {
    "collapsed": true
   },
   "source": [
    "### 以图的形式表示每个topic的corpus weight"
   ]
  },
  {
   "cell_type": "code",
   "execution_count": 12,
   "metadata": {
    "collapsed": false
   },
   "outputs": [
    {
     "data": {
      "image/png": "[encoded data removed]",
      "text/plain": [
       "<matplotlib.figure.Figure at 0x7f1b6c08cb10>"
      ]
     },
     "metadata": {},
     "output_type": "display_data"
    }
   ],
   "source": [
    "import matplotlib.pyplot as plt\n",
    "topic_weight_list = []\n",
    "X = []\n",
    "# 计算每个topic的 corpus_weight\n",
    "for i in range(0, 100):\n",
    "    topic_weight_list.append(corpus_weight(i))\n",
    "    X.append(i)\n",
    "plt.figure(figsize=(15,5))\n",
    "plt.bar(X, topic_weight_list)\n",
    "    \n",
    "plt.xlabel('Topic')  \n",
    "plt.ylabel('Corpus Weight')  \n",
    "plt.title('Corpus Weights for Topics 0-99')  \n",
    "plt.savefig('figure corpus Weight')\n",
    "plt.show()"
   ]
  },
  {
   "cell_type": "code",
   "execution_count": null,
   "metadata": {
    "collapsed": false
   },
   "outputs": [],
   "source": []
  },
  {
   "cell_type": "code",
   "execution_count": null,
   "metadata": {
    "collapsed": true
   },
   "outputs": [],
   "source": []
  }
 ],
 "metadata": {
  "kernelspec": {
   "display_name": "Python 2",
   "language": "python",
   "name": "python2"
  },
  "language_info": {
   "codemirror_mode": {
    "name": "ipython",
    "version": 2
   },
   "file_extension": ".py",
   "mimetype": "text/x-python",
   "name": "python",
   "nbconvert_exporter": "python",
   "pygments_lexer": "ipython2",
   "version": "2.7.13"
  }
 },
 "nbformat": 4,
 "nbformat_minor": 2
}
