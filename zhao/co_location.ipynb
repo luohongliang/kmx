{
 "cells": [
  {
   "cell_type": "code",
   "execution_count": 48,
   "metadata": {
    "collapsed": true
   },
   "outputs": [],
   "source": [
    "import numpy as np\n",
    "import sys\n",
    "reload(sys)\n",
    "sys.setdefaultencoding('utf8')\n",
    "\n",
    "def co_location_matr(filepath, windows):\n",
    "    data = np.load(filepath)\n",
    "    corpus_list = data['corpus']\n",
    "    words_list = data['words']\n",
    "    context_data_document_list = data['context_data_document']\n",
    "    \n",
    "    co_location = np.zeros((len(words_list),len(words_list)),dtype = np.int)\n",
    "\n",
    "    for window in range(1,windows):\n",
    "        start_index = 0\n",
    "        for i in range(len(context_data_document_list)):\n",
    "            end_index = context_data_document_list[i][0]\n",
    "            for ii in range(start_index, end_index - window): \n",
    "                index_x = corpus_list[ii]\n",
    "                index_y = corpus_list[ii + window]\n",
    "                co_location[index_x, index_y] += 1\n",
    "                co_location[index_y, index_x] += 1\n",
    "                    \n",
    "            start_index = end_index + 1\n",
    "    return co_location\n",
    "\n",
    "def query_words(filepath,co_location_matr, word1, word2):\n",
    "    data = np.load(filepath)\n",
    "    corpus_list = data['corpus']\n",
    "    words_list = data['words']\n",
    "    context_data_document_list = data['context_data_document']\n",
    "    \n",
    "    #index_x = words_list.index(word1)\n",
    "    #index_y = words_list.index(word2)\n",
    "    for index_x in range(0,len(words_list)):\n",
    "        if words_list[index_x].encode('utf-8') == word1.encode('utf-8'):\n",
    "            break;\n",
    "    for index_y in range(0,len(words_list)):\n",
    "        if words_list[index_y].encode('utf-8') == word2.encode('utf-8'):\n",
    "            break;\n",
    "    print word1.encode('utf-8'), 'index_x:', index_x, word2.encode('utf-8'), 'index_y:', index_y\n",
    "    return co_location_matr[index_x, index_y]"
   ]
  },
  {
   "cell_type": "code",
   "execution_count": 49,
   "metadata": {
    "collapsed": true
   },
   "outputs": [],
   "source": [
    "filepath = '/home/yz/anaconda2/test/kmx_v2/models/kmx-freq5.npz'"
   ]
  },
  {
   "cell_type": "code",
   "execution_count": 50,
   "metadata": {},
   "outputs": [
    {
     "data": {
      "text/plain": [
       "array([[0, 0, 0, ..., 0, 0, 0],\n",
       "       [0, 0, 0, ..., 0, 0, 0],\n",
       "       [0, 0, 0, ..., 0, 0, 0],\n",
       "       ..., \n",
       "       [0, 0, 0, ..., 0, 0, 0],\n",
       "       [0, 0, 0, ..., 0, 4, 0],\n",
       "       [0, 0, 0, ..., 0, 0, 0]])"
      ]
     },
     "execution_count": 50,
     "metadata": {},
     "output_type": "execute_result"
    }
   ],
   "source": [
    "matr = co_location_matr(filepath, 3)\n",
    "matr"
   ]
  },
  {
   "cell_type": "code",
   "execution_count": 51,
   "metadata": {},
   "outputs": [
    {
     "data": {
      "text/plain": [
       "672"
      ]
     },
     "execution_count": 51,
     "metadata": {},
     "output_type": "execute_result"
    }
   ],
   "source": [
    "query_words(filepath, matr, '道', '德')"
   ]
  },
  {
   "cell_type": "code",
   "execution_count": null,
   "metadata": {
    "collapsed": true
   },
   "outputs": [],
   "source": []
  }
 ],
 "metadata": {
  "kernelspec": {
   "display_name": "Python 2",
   "language": "python",
   "name": "python2"
  },
  "language_info": {
   "codemirror_mode": {
    "name": "ipython",
    "version": 2
   },
   "file_extension": ".py",
   "mimetype": "text/x-python",
   "name": "python",
   "nbconvert_exporter": "python",
   "pygments_lexer": "ipython2",
   "version": "2.7.13"
  }
 },
 "nbformat": 4,
 "nbformat_minor": 2
}
